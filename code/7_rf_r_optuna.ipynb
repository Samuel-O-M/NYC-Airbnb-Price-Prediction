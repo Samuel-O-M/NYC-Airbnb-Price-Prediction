{
 "cells": [
  {
   "cell_type": "code",
   "execution_count": null,
   "metadata": {},
   "outputs": [],
   "source": [
    "import pandas as pd\n",
    "import numpy as np\n",
    "import optuna\n",
    "from sklearn.preprocessing import StandardScaler\n",
    "from sklearn.model_selection import GridSearchCV, cross_val_score\n",
    "from sklearn.metrics import confusion_matrix\n",
    "from sklearn.metrics import mean_squared_error\n",
    "from sklearn.ensemble import RandomForestRegressor\n",
    "import matplotlib.pyplot as plt\n",
    "import seaborn as sns"
   ]
  },
  {
   "cell_type": "code",
   "execution_count": null,
   "metadata": {},
   "outputs": [],
   "source": [
    "in_folder = '../data/processed/6_new/'"
   ]
  },
  {
   "cell_type": "code",
   "execution_count": null,
   "metadata": {},
   "outputs": [],
   "source": [
    "train_data_path = in_folder + 'train.csv'\n",
    "train_df = pd.read_csv(train_data_path)\n",
    "\n",
    "test_data_path = in_folder + 'test.csv'\n",
    "test_df = pd.read_csv(test_data_path)\n",
    "\n",
    "final_train_data_path = in_folder + 'final_train.csv'\n",
    "final_train_df = pd.read_csv(final_train_data_path)\n",
    "\n",
    "predictive_data_path = in_folder + 'predictive.csv'\n",
    "predictive_df = pd.read_csv(predictive_data_path)\n",
    "\n",
    "price_bins = [0, 1, 2, 3, 4, 5]\n",
    "\n",
    "X_train = train_df.drop('price', axis=1)\n",
    "y_train = train_df['price']\n",
    "X_test = test_df.drop('price', axis=1)\n",
    "y_test = test_df['price']\n",
    "X_final_train = final_train_df.drop('price', axis=1)\n",
    "y_final_train = final_train_df['price']\n",
    "X_predictive = predictive_df.drop('id', axis=1)\n",
    "id_predictive = predictive_df['id']\n",
    "\n",
    "scaler = StandardScaler()\n",
    "\n",
    "X_train_scaled = scaler.fit_transform(X_train)\n",
    "X_test_scaled = scaler.transform(X_test)\n",
    "\n",
    "final_scaler = StandardScaler()\n",
    "\n",
    "X_final_train_scaled = final_scaler.fit_transform(X_final_train)\n",
    "X_predictive_scaled = final_scaler.transform(X_predictive)\n",
    "\n",
    "\n",
    "def plot_confusion_matrix(cm, classes, title):\n",
    "    plt.figure(figsize=(8,6))\n",
    "    sns.heatmap(cm, annot=True, fmt='d', cmap='Blues',\n",
    "                xticklabels=classes, yticklabels=classes)\n",
    "    plt.xlabel('Predicted')\n",
    "    plt.ylabel('Actual')\n",
    "    plt.title(title)\n",
    "    plt.show()\n",
    "\n",
    "\n",
    "def evaluate_model(model, X_train, y_train, X_test, y_test, model_name):\n",
    "\n",
    "    y_train_pred = np.round(model.predict(X_train))\n",
    "    y_train_pred = np.clip(y_train_pred, 0, 5)\n",
    "    train_mse = mean_squared_error(y_train, y_train_pred)\n",
    "    train_rmse = np.sqrt(train_mse)\n",
    "\n",
    "    y_test_pred = np.round(model.predict(X_test))\n",
    "    y_test_pred = np.clip(y_test_pred, 0, 5)\n",
    "    test_mse = mean_squared_error(y_test, y_test_pred)\n",
    "    test_rmse = np.sqrt(test_mse)\n",
    "\n",
    "    print(f\"--- {model_name} Performance ---\")\n",
    "    print(f\"Train RMSE: {train_rmse:.4f}\")\n",
    "    print(f\"Test RMSE: {test_rmse:.4f}\")\n",
    "\n",
    "    cm = confusion_matrix(y_test, y_test_pred)\n",
    "    plot_confusion_matrix(cm, classes=[0,1,2,3,4,5], title=f'Confusion Matrix: {model_name}')"
   ]
  },
  {
   "cell_type": "code",
   "execution_count": null,
   "metadata": {},
   "outputs": [],
   "source": [
    "def objective(trial):\n",
    "    param = {\n",
    "        'n_estimators': trial.suggest_int('n_estimators', 100, 1000),\n",
    "        'max_depth': trial.suggest_int('max_depth', 3, 100),\n",
    "        'min_samples_split': trial.suggest_int('min_samples_split', 2, 5),\n",
    "        'min_samples_leaf': trial.suggest_int('min_samples_leaf', 1, 5),\n",
    "        'max_features': trial.suggest_categorical('max_features', ['sqrt', 'log2', None]),\n",
    "        'bootstrap': trial.suggest_categorical('bootstrap', [True, False])\n",
    "    }\n",
    "    \n",
    "    rf = RandomForestRegressor(\n",
    "        random_state=314,\n",
    "        **param,\n",
    "        n_jobs=-1\n",
    "    )\n",
    "    \n",
    "    score = cross_val_score(\n",
    "        rf, X_train, y_train,\n",
    "        cv=5,\n",
    "        scoring='neg_root_mean_squared_error',\n",
    "        n_jobs=-1\n",
    "    ).mean()\n",
    "    \n",
    "    return score\n",
    "\n",
    "study = optuna.create_study(direction='maximize')\n",
    "study.optimize(objective, n_trials=100, timeout=600)\n",
    "\n",
    "best_params = study.best_params"
   ]
  },
  {
   "cell_type": "code",
   "execution_count": null,
   "metadata": {},
   "outputs": [],
   "source": [
    "best_params = {'n_estimators': 350, 'max_depth': 29, 'min_samples_split': 5, 'min_samples_leaf': 1, 'max_features': 'log2', 'bootstrap': False}"
   ]
  },
  {
   "cell_type": "code",
   "execution_count": null,
   "metadata": {},
   "outputs": [],
   "source": [
    "best_rf = RandomForestRegressor(random_state=314, **best_params)\n",
    "best_rf.fit(X_train, y_train)\n",
    "evaluate_model(best_rf, X_train, y_train, X_test, y_test, 'Random Forest')"
   ]
  },
  {
   "cell_type": "code",
   "execution_count": null,
   "metadata": {},
   "outputs": [],
   "source": [
    "final_rf = RandomForestRegressor(random_state=314, **best_params)\n",
    "final_rf.fit(X_final_train, y_final_train)\n",
    "final_predictions = final_rf.predict(X_predictive)\n",
    "final_predictions = np.round(final_predictions).astype(int)\n",
    "final_predictions = np.clip(final_predictions, 0, 5)\n",
    "\n",
    "out_folder = '../data/processed/'\n",
    "submission = pd.DataFrame({'id': id_predictive, 'price': final_predictions})\n",
    "submission.to_csv(out_folder + 'random_forest.csv', index=False)"
   ]
  }
 ],
 "metadata": {
  "kernelspec": {
   "display_name": "venv",
   "language": "python",
   "name": "python3"
  },
  "language_info": {
   "codemirror_mode": {
    "name": "ipython",
    "version": 3
   },
   "file_extension": ".py",
   "mimetype": "text/x-python",
   "name": "python",
   "nbconvert_exporter": "python",
   "pygments_lexer": "ipython3",
   "version": "3.12.7"
  }
 },
 "nbformat": 4,
 "nbformat_minor": 2
}
