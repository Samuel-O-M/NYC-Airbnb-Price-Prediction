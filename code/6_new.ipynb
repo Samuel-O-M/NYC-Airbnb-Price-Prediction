{
 "cells": [
  {
   "cell_type": "code",
   "execution_count": 20,
   "metadata": {},
   "outputs": [],
   "source": [
    "import pandas as pd\n",
    "import numpy as np\n",
    "from sklearn.model_selection import train_test_split"
   ]
  },
  {
   "cell_type": "code",
   "execution_count": 21,
   "metadata": {},
   "outputs": [
    {
     "name": "stdout",
     "output_type": "stream",
     "text": [
      "Loading data...\n"
     ]
    }
   ],
   "source": [
    "# ----------------- Data Loading -----------------\n",
    "print('Loading data...')\n",
    "\n",
    "data_path = '../data/original/train.csv'\n",
    "df = pd.read_csv(data_path)\n",
    "\n",
    "train_df, test_df = train_test_split(df, test_size=0.2, random_state=314)\n",
    "\n",
    "final_train_df = df.copy()\n",
    "\n",
    "predictive_path = '../data/original/predictive.csv'\n",
    "predictive_df = pd.read_csv(predictive_path)\n",
    "\n",
    "processed_train_csv_path = '../data/processed/5_outliers/train.csv'\n",
    "processed_test_csv_path = '../data/processed/5_outliers/test.csv'\n",
    "processed_final_train_csv_path = '../data/processed/5_outliers/final_train.csv'\n",
    "processed_predictive_csv_path = '../data/processed/5_outliers/predictive.csv'\n",
    "\n",
    "processed_train_df = pd.read_csv(processed_train_csv_path)\n",
    "processed_test_df = pd.read_csv(processed_test_csv_path)\n",
    "processed_final_train_df = pd.read_csv(processed_final_train_csv_path)\n",
    "processed_predictive_df = pd.read_csv(processed_predictive_csv_path)\n",
    "\n",
    "df = processed_train_df.copy()"
   ]
  },
  {
   "cell_type": "code",
   "execution_count": null,
   "metadata": {},
   "outputs": [],
   "source": [
    "for df_part in [processed_train_df, processed_test_df, processed_final_train_df, processed_predictive_df]:\n",
    "    df_part['amenities_count'] = df_part['air_conditioning'] + df_part['tv'] + df_part['streaming_services'] + df_part['refrigerator'] + df_part['microwave'] + df_part['wifi'] + df_part['parking'] + df_part['gym'] + df_part['water_view'] + df_part['kitchen']\n",
    "\n",
    "\n",
    "for df_part in [processed_train_df, processed_test_df, processed_final_train_df, processed_predictive_df]:\n",
    "    df_part['host_responsiveness'] = df_part['host_response_time'] * df_part['host_response_rate']\n"
   ]
  },
  {
   "cell_type": "code",
   "execution_count": 24,
   "metadata": {},
   "outputs": [
    {
     "name": "stdout",
     "output_type": "stream",
     "text": [
      "Saving data...\n"
     ]
    }
   ],
   "source": [
    "# ----------------- Save Data -----------------\n",
    "print('Saving data...')\n",
    "\n",
    "processed_train_csv_path = '../data/processed/6_new/train.csv'\n",
    "processed_test_csv_path = '../data/processed/6_new/test.csv'\n",
    "processed_final_train_csv_path = '../data/processed/6_new/final_train.csv'\n",
    "processed_predictive_csv_path = '../data/processed/6_new/predictive.csv'\n",
    "\n",
    "processed_train_df.to_csv(processed_train_csv_path, index=False)\n",
    "processed_test_df.to_csv(processed_test_csv_path, index=False)\n",
    "processed_final_train_df.to_csv(processed_final_train_csv_path, index=False)\n",
    "processed_predictive_df.to_csv(processed_predictive_csv_path, index=False)"
   ]
  }
 ],
 "metadata": {
  "kernelspec": {
   "display_name": "venv",
   "language": "python",
   "name": "python3"
  },
  "language_info": {
   "codemirror_mode": {
    "name": "ipython",
    "version": 3
   },
   "file_extension": ".py",
   "mimetype": "text/x-python",
   "name": "python",
   "nbconvert_exporter": "python",
   "pygments_lexer": "ipython3",
   "version": "3.12.7"
  }
 },
 "nbformat": 4,
 "nbformat_minor": 2
}
